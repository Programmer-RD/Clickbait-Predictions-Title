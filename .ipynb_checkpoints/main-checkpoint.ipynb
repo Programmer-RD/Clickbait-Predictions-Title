{
 "cells": [
  {
   "cell_type": "code",
   "execution_count": 1,
   "metadata": {},
   "outputs": [],
   "source": [
    "import pandas as pd"
   ]
  },
  {
   "cell_type": "code",
   "execution_count": 2,
   "metadata": {},
   "outputs": [
    {
     "name": "stdout",
     "output_type": "stream",
     "text": [
      "Archive:  ./archive (62).zip\r\n",
      "  inflating: clickbait_data.csv      \r\n"
     ]
    }
   ],
   "source": [
    "!unzip ./archive\\ \\(62\\).zip"
   ]
  },
  {
   "cell_type": "code",
   "execution_count": 3,
   "metadata": {},
   "outputs": [],
   "source": [
    "data = pd.read_csv('./clickbait_data.csv')"
   ]
  },
  {
   "cell_type": "code",
   "execution_count": 4,
   "metadata": {},
   "outputs": [
    {
     "data": {
      "text/plain": [
       "32000"
      ]
     },
     "execution_count": 4,
     "metadata": {},
     "output_type": "execute_result"
    }
   ],
   "source": [
    "len(data)"
   ]
  },
  {
   "cell_type": "code",
   "execution_count": 9,
   "metadata": {},
   "outputs": [
    {
     "data": {
      "text/plain": [
       "headline     Here's 100 Years Of Bollywood Cinema In Under ...\n",
       "clickbait                                                    1\n",
       "Name: 50, dtype: object"
      ]
     },
     "execution_count": 9,
     "metadata": {},
     "output_type": "execute_result"
    }
   ],
   "source": [
    "data.iloc[50]"
   ]
  },
  {
   "cell_type": "code",
   "execution_count": 6,
   "metadata": {},
   "outputs": [
    {
     "data": {
      "text/plain": [
       "0    16001\n",
       "1    15999\n",
       "Name: clickbait, dtype: int64"
      ]
     },
     "execution_count": 6,
     "metadata": {},
     "output_type": "execute_result"
    }
   ],
   "source": [
    "data['clickbait'].value_counts()"
   ]
  },
  {
   "cell_type": "code",
   "execution_count": 7,
   "metadata": {},
   "outputs": [
    {
     "data": {
      "text/plain": [
       "headline     0\n",
       "clickbait    0\n",
       "dtype: int64"
      ]
     },
     "execution_count": 7,
     "metadata": {},
     "output_type": "execute_result"
    }
   ],
   "source": [
    "data.isna().sum()"
   ]
  },
  {
   "cell_type": "code",
   "execution_count": 13,
   "metadata": {},
   "outputs": [],
   "source": [
    "import numpy as np\n",
    "to_delete = np.random.choice(data[data['clickbait'] == 0].index,2)\n",
    "data.drop(to_delete,inplace=True,axis=0)"
   ]
  },
  {
   "cell_type": "code",
   "execution_count": 14,
   "metadata": {},
   "outputs": [
    {
     "data": {
      "text/plain": [
       "1    15999\n",
       "0    15999\n",
       "Name: clickbait, dtype: int64"
      ]
     },
     "execution_count": 14,
     "metadata": {},
     "output_type": "execute_result"
    }
   ],
   "source": [
    "data['clickbait'].value_counts()"
   ]
  },
  {
   "cell_type": "code",
   "execution_count": 15,
   "metadata": {},
   "outputs": [
    {
     "data": {
      "text/html": [
       "<div>\n",
       "<style scoped>\n",
       "    .dataframe tbody tr th:only-of-type {\n",
       "        vertical-align: middle;\n",
       "    }\n",
       "\n",
       "    .dataframe tbody tr th {\n",
       "        vertical-align: top;\n",
       "    }\n",
       "\n",
       "    .dataframe thead th {\n",
       "        text-align: right;\n",
       "    }\n",
       "</style>\n",
       "<table border=\"1\" class=\"dataframe\">\n",
       "  <thead>\n",
       "    <tr style=\"text-align: right;\">\n",
       "      <th></th>\n",
       "      <th>headline</th>\n",
       "      <th>clickbait</th>\n",
       "    </tr>\n",
       "  </thead>\n",
       "  <tbody>\n",
       "    <tr>\n",
       "      <th>0</th>\n",
       "      <td>Should I Get Bings</td>\n",
       "      <td>1</td>\n",
       "    </tr>\n",
       "    <tr>\n",
       "      <th>1</th>\n",
       "      <td>Which TV Female Friend Group Do You Belong In</td>\n",
       "      <td>1</td>\n",
       "    </tr>\n",
       "    <tr>\n",
       "      <th>2</th>\n",
       "      <td>The New \"Star Wars: The Force Awakens\" Trailer...</td>\n",
       "      <td>1</td>\n",
       "    </tr>\n",
       "    <tr>\n",
       "      <th>3</th>\n",
       "      <td>This Vine Of New York On \"Celebrity Big Brothe...</td>\n",
       "      <td>1</td>\n",
       "    </tr>\n",
       "    <tr>\n",
       "      <th>4</th>\n",
       "      <td>A Couple Did A Stunning Photo Shoot With Their...</td>\n",
       "      <td>1</td>\n",
       "    </tr>\n",
       "  </tbody>\n",
       "</table>\n",
       "</div>"
      ],
      "text/plain": [
       "                                            headline  clickbait\n",
       "0                                 Should I Get Bings          1\n",
       "1      Which TV Female Friend Group Do You Belong In          1\n",
       "2  The New \"Star Wars: The Force Awakens\" Trailer...          1\n",
       "3  This Vine Of New York On \"Celebrity Big Brothe...          1\n",
       "4  A Couple Did A Stunning Photo Shoot With Their...          1"
      ]
     },
     "execution_count": 15,
     "metadata": {},
     "output_type": "execute_result"
    }
   ],
   "source": [
    "data.head()"
   ]
  },
  {
   "cell_type": "code",
   "execution_count": 16,
   "metadata": {},
   "outputs": [],
   "source": [
    "X = data['headline']\n",
    "y = data['clickbait']"
   ]
  },
  {
   "cell_type": "code",
   "execution_count": 17,
   "metadata": {},
   "outputs": [],
   "source": [
    "from sklearn.feature_extraction.text import CountVectorizer,TfidfVectorizer\n",
    "cv = CountVectorizer()\n",
    "# cv = TfidfVectorizer()\n",
    "cv.fit(X)\n",
    "X_cv = cv.transform(X)"
   ]
  },
  {
   "cell_type": "code",
   "execution_count": 19,
   "metadata": {},
   "outputs": [],
   "source": [
    "from sklearn.ensemble import RandomForestClassifier\n",
    "from sklearn.tree import DecisionTreeClassifier\n",
    "from sklearn.naive_bayes import GaussianNB\n",
    "from sklearn.model_selection import *\n",
    "from sklearn.metrics import *\n",
    "X_train,X_test,y_train,y_test = train_test_split(X_cv,y,test_size=0.25)"
   ]
  },
  {
   "cell_type": "code",
   "execution_count": 20,
   "metadata": {},
   "outputs": [],
   "source": [
    "def fit_and_calcuate_metrixs(models:dict,X_train,X_test,y_train,y_test):\n",
    "    models_info = {}\n",
    "    for name,model in models.items():\n",
    "        print(name)\n",
    "        model = model.fit(X_train,y_train)\n",
    "        y_preds = model.predict(X_test)\n",
    "        try:\n",
    "            info = {\n",
    "                'Accuracy':model.score(X_test,y_test),\n",
    "                'F1 Score':f1_score(y_test,y_preds),\n",
    "                'Precision':precision_score(y_test,y_preds),\n",
    "                'Recall':recall_score(y_test,y_preds)\n",
    "            }\n",
    "            plot_confusion_matrix(model,X_test,y_test)\n",
    "            plot_roc_curve(model,X_test,y_test)\n",
    "            models_info[name] = info\n",
    "        except:\n",
    "            info = {\n",
    "                'Accuracy':model.score(X_test,y_test),\n",
    "                'MAE':mean_absolute_error(y_test,y_preds),\n",
    "                'MSE':mean_squared_error(y_test,y_preds)\n",
    "            }\n",
    "            models_info[name] = info\n",
    "        print('\\n\\n')\n",
    "    return models_info\n",
    "def calcuate_metrixs(models:dict,X_train,X_test,y_train,y_test):\n",
    "    models_info = {}\n",
    "    for name,model in models.items():\n",
    "        print(name)\n",
    "        y_preds = model.predict(X_test)\n",
    "        info = {\n",
    "            'Accuracy':model.score(X_test,y_test),\n",
    "            'F1 Score':f1_score(y_test,y_preds),\n",
    "            'Precision':precision_score(y_test,y_preds),\n",
    "            'Recall':recall_score(y_test,y_preds)\n",
    "        }\n",
    "        plot_confusion_matrix(model,X_test,y_test)\n",
    "        plot_roc_curve(model,X_test,y_test)\n",
    "        models_info[name] = info\n",
    "        print('\\n\\n')\n",
    "    return models_info"
   ]
  },
  {
   "cell_type": "code",
   "execution_count": 22,
   "metadata": {},
   "outputs": [
    {
     "name": "stdout",
     "output_type": "stream",
     "text": [
      "RandomForestClassifier\n",
      "\n",
      "\n",
      "\n",
      "DecisionTreeClassifier\n",
      "\n",
      "\n",
      "\n",
      "SGDClassifier\n",
      "\n",
      "\n",
      "\n"
     ]
    },
    {
     "data": {
      "image/png": "[encoded data removed]",
      "text/plain": [
       "<Figure size 432x288 with 2 Axes>"
      ]
     },
     "metadata": {
      "needs_background": "light"
     },
     "output_type": "display_data"
    },
    {
     "data": {
      "image/png": "[encoded data removed]",
      "text/plain": [
       "<Figure size 432x288 with 1 Axes>"
      ]
     },
     "metadata": {
      "needs_background": "light"
     },
     "output_type": "display_data"
    },
    {
     "data": {
      "image/png": "[encoded data removed]",
      "text/plain": [
       "<Figure size 432x288 with 2 Axes>"
      ]
     },
     "metadata": {
      "needs_background": "light"
     },
     "output_type": "display_data"
    },
    {
     "data": {
      "image/png": "[encoded data removed]",
      "text/plain": [
       "<Figure size 432x288 with 1 Axes>"
      ]
     },
     "metadata": {
      "needs_background": "light"
     },
     "output_type": "display_data"
    },
    {
     "data": {
      "image/png": "[encoded data removed]",
      "text/plain": [
       "<Figure size 432x288 with 2 Axes>"
      ]
     },
     "metadata": {
      "needs_background": "light"
     },
     "output_type": "display_data"
    },
    {
     "data": {
      "image/png": "[encoded data removed]",
      "text/plain": [
       "<Figure size 432x288 with 1 Axes>"
      ]
     },
     "metadata": {
      "needs_background": "light"
     },
     "output_type": "display_data"
    }
   ],
   "source": [
    "from sklearn.linear_model import *\n",
    "models_clf = {\n",
    "    'RandomForestClassifier':RandomForestClassifier(),\n",
    "    'DecisionTreeClassifier':DecisionTreeClassifier(),\n",
    "    'SGDClassifier':SGDClassifier(),\n",
    "}\n",
    "models_clf_results = fit_and_calcuate_metrixs(models_clf,X_train,X_test,y_train,y_test)\n",
    "models_clf_results = pd.DataFrame(models_clf_results.values(),models_clf_results.keys())"
   ]
  },
  {
   "cell_type": "code",
   "execution_count": 23,
   "metadata": {},
   "outputs": [
    {
     "data": {
      "text/html": [
       "<div>\n",
       "<style scoped>\n",
       "    .dataframe tbody tr th:only-of-type {\n",
       "        vertical-align: middle;\n",
       "    }\n",
       "\n",
       "    .dataframe tbody tr th {\n",
       "        vertical-align: top;\n",
       "    }\n",
       "\n",
       "    .dataframe thead th {\n",
       "        text-align: right;\n",
       "    }\n",
       "</style>\n",
       "<table border=\"1\" class=\"dataframe\">\n",
       "  <thead>\n",
       "    <tr style=\"text-align: right;\">\n",
       "      <th></th>\n",
       "      <th>Accuracy</th>\n",
       "      <th>F1 Score</th>\n",
       "      <th>Precision</th>\n",
       "      <th>Recall</th>\n",
       "    </tr>\n",
       "  </thead>\n",
       "  <tbody>\n",
       "    <tr>\n",
       "      <th>RandomForestClassifier</th>\n",
       "      <td>0.955625</td>\n",
       "      <td>0.956026</td>\n",
       "      <td>0.951665</td>\n",
       "      <td>0.960428</td>\n",
       "    </tr>\n",
       "    <tr>\n",
       "      <th>DecisionTreeClassifier</th>\n",
       "      <td>0.932375</td>\n",
       "      <td>0.932853</td>\n",
       "      <td>0.930428</td>\n",
       "      <td>0.935291</td>\n",
       "    </tr>\n",
       "    <tr>\n",
       "      <th>SGDClassifier</th>\n",
       "      <td>0.975375</td>\n",
       "      <td>0.975298</td>\n",
       "      <td>0.982815</td>\n",
       "      <td>0.967894</td>\n",
       "    </tr>\n",
       "  </tbody>\n",
       "</table>\n",
       "</div>"
      ],
      "text/plain": [
       "                        Accuracy  F1 Score  Precision    Recall\n",
       "RandomForestClassifier  0.955625  0.956026   0.951665  0.960428\n",
       "DecisionTreeClassifier  0.932375  0.932853   0.930428  0.935291\n",
       "SGDClassifier           0.975375  0.975298   0.982815  0.967894"
      ]
     },
     "execution_count": 23,
     "metadata": {},
     "output_type": "execute_result"
    }
   ],
   "source": [
    "models_clf_results\n"
   ]
  },
  {
   "cell_type": "code",
   "execution_count": 24,
   "metadata": {},
   "outputs": [
    {
     "data": {
      "text/plain": [
       "<AxesSubplot:>"
      ]
     },
     "execution_count": 24,
     "metadata": {},
     "output_type": "execute_result"
    },
    {
     "data": {
      "image/png": "[encoded data removed]",
      "text/plain": [
       "<Figure size 1440x720 with 1 Axes>"
      ]
     },
     "metadata": {
      "needs_background": "light"
     },
     "output_type": "display_data"
    }
   ],
   "source": [
    "models_clf_results.plot.bar(figsize=(20,10))"
   ]
  },
  {
   "cell_type": "markdown",
   "metadata": {},
   "source": [
    "### GridSearchCV"
   ]
  },
  {
   "cell_type": "code",
   "execution_count": 25,
   "metadata": {},
   "outputs": [
    {
     "name": "stdout",
     "output_type": "stream",
     "text": [
      "Fitting 2 folds for each of 72 candidates, totalling 144 fits\n",
      "[CV] fit_intercept=True, loss=log, penalty=l2, shuffle=True, warm_start=True \n",
      "[CV]  fit_intercept=True, loss=log, penalty=l2, shuffle=True, warm_start=True, score=0.965, total=   0.0s\n",
      "[CV] fit_intercept=True, loss=log, penalty=l2, shuffle=True, warm_start=True \n",
      "[CV]  fit_intercept=True, loss=log, penalty=l2, shuffle=True, warm_start=True, score=0.966, total=   0.0s\n",
      "[CV] fit_intercept=True, loss=log, penalty=l2, shuffle=True, warm_start=False \n",
      "[CV]  fit_intercept=True, loss=log, penalty=l2, shuffle=True, warm_start=False, score=0.965, total=   0.0s\n",
      "[CV] fit_intercept=True, loss=log, penalty=l2, shuffle=True, warm_start=False \n",
      "[CV]  fit_intercept=True, loss=log, penalty=l2, shuffle=True, warm_start=False, score=0.964, total=   0.0s\n",
      "[CV] fit_intercept=True, loss=log, penalty=l2, shuffle=False, warm_start=True \n",
      "[CV]  fit_intercept=True, loss=log, penalty=l2, shuffle=False, warm_start=True, score=0.963, total=   0.0s\n",
      "[CV] fit_intercept=True, loss=log, penalty=l2, shuffle=False, warm_start=True \n"
     ]
    },
    {
     "name": "stderr",
     "output_type": "stream",
     "text": [
      "[Parallel(n_jobs=1)]: Using backend SequentialBackend with 1 concurrent workers.\n",
      "[Parallel(n_jobs=1)]: Done   1 out of   1 | elapsed:    0.0s remaining:    0.0s\n",
      "[Parallel(n_jobs=1)]: Done   2 out of   2 | elapsed:    0.1s remaining:    0.0s\n",
      "[Parallel(n_jobs=1)]: Done   3 out of   3 | elapsed:    0.1s remaining:    0.0s\n",
      "[Parallel(n_jobs=1)]: Done   4 out of   4 | elapsed:    0.1s remaining:    0.0s\n",
      "[Parallel(n_jobs=1)]: Done   5 out of   5 | elapsed:    0.2s remaining:    0.0s\n",
      "[Parallel(n_jobs=1)]: Done   6 out of   6 | elapsed:    0.2s remaining:    0.0s\n"
     ]
    },
    {
     "name": "stdout",
     "output_type": "stream",
     "text": [
      "[CV]  fit_intercept=True, loss=log, penalty=l2, shuffle=False, warm_start=True, score=0.962, total=   0.0s\n",
      "[CV] fit_intercept=True, loss=log, penalty=l2, shuffle=False, warm_start=False \n",
      "[CV]  fit_intercept=True, loss=log, penalty=l2, shuffle=False, warm_start=False, score=0.963, total=   0.0s\n",
      "[CV] fit_intercept=True, loss=log, penalty=l2, shuffle=False, warm_start=False \n",
      "[CV]  fit_intercept=True, loss=log, penalty=l2, shuffle=False, warm_start=False, score=0.962, total=   0.0s\n",
      "[CV] fit_intercept=True, loss=log, penalty=l1, shuffle=True, warm_start=True \n",
      "[CV]  fit_intercept=True, loss=log, penalty=l1, shuffle=True, warm_start=True, score=0.949, total=   0.1s\n",
      "[CV] fit_intercept=True, loss=log, penalty=l1, shuffle=True, warm_start=True \n",
      "[CV]  fit_intercept=True, loss=log, penalty=l1, shuffle=True, warm_start=True, score=0.951, total=   0.1s\n",
      "[CV] fit_intercept=True, loss=log, penalty=l1, shuffle=True, warm_start=False \n"
     ]
    },
    {
     "name": "stderr",
     "output_type": "stream",
     "text": [
      "[Parallel(n_jobs=1)]: Done   7 out of   7 | elapsed:    0.2s remaining:    0.0s\n",
      "[Parallel(n_jobs=1)]: Done   8 out of   8 | elapsed:    0.3s remaining:    0.0s\n",
      "[Parallel(n_jobs=1)]: Done   9 out of   9 | elapsed:    0.3s remaining:    0.0s\n",
      "[Parallel(n_jobs=1)]: Done  10 out of  10 | elapsed:    0.4s remaining:    0.0s\n"
     ]
    },
    {
     "name": "stdout",
     "output_type": "stream",
     "text": [
      "[CV]  fit_intercept=True, loss=log, penalty=l1, shuffle=True, warm_start=False, score=0.955, total=   0.1s\n",
      "[CV] fit_intercept=True, loss=log, penalty=l1, shuffle=True, warm_start=False \n",
      "[CV]  fit_intercept=True, loss=log, penalty=l1, shuffle=True, warm_start=False, score=0.949, total=   0.1s\n",
      "[CV] fit_intercept=True, loss=log, penalty=l1, shuffle=False, warm_start=True \n",
      "[CV]  fit_intercept=True, loss=log, penalty=l1, shuffle=False, warm_start=True, score=0.951, total=   0.0s\n",
      "[CV] fit_intercept=True, loss=log, penalty=l1, shuffle=False, warm_start=True \n",
      "[CV]  fit_intercept=True, loss=log, penalty=l1, shuffle=False, warm_start=True, score=0.952, total=   0.0s\n",
      "[CV] fit_intercept=True, loss=log, penalty=l1, shuffle=False, warm_start=False \n",
      "[CV]  fit_intercept=True, loss=log, penalty=l1, shuffle=False, warm_start=False, score=0.951, total=   0.0s\n",
      "[CV] fit_intercept=True, loss=log, penalty=l1, shuffle=False, warm_start=False \n"
     ]
    },
    {
     "name": "stderr",
     "output_type": "stream",
     "text": [
      "[Parallel(n_jobs=1)]: Done  11 out of  11 | elapsed:    0.5s remaining:    0.0s\n",
      "[Parallel(n_jobs=1)]: Done  12 out of  12 | elapsed:    0.5s remaining:    0.0s\n",
      "[Parallel(n_jobs=1)]: Done  13 out of  13 | elapsed:    0.6s remaining:    0.0s\n",
      "[Parallel(n_jobs=1)]: Done  14 out of  14 | elapsed:    0.6s remaining:    0.0s\n",
      "[Parallel(n_jobs=1)]: Done  15 out of  15 | elapsed:    0.6s remaining:    0.0s\n"
     ]
    },
    {
     "name": "stdout",
     "output_type": "stream",
     "text": [
      "[CV]  fit_intercept=True, loss=log, penalty=l1, shuffle=False, warm_start=False, score=0.952, total=   0.0s\n",
      "[CV] fit_intercept=True, loss=log, penalty=elasticnet, shuffle=True, warm_start=True \n",
      "[CV]  fit_intercept=True, loss=log, penalty=elasticnet, shuffle=True, warm_start=True, score=0.960, total=   0.0s\n",
      "[CV] fit_intercept=True, loss=log, penalty=elasticnet, shuffle=True, warm_start=True \n",
      "[CV]  fit_intercept=True, loss=log, penalty=elasticnet, shuffle=True, warm_start=True, score=0.961, total=   0.0s\n",
      "[CV] fit_intercept=True, loss=log, penalty=elasticnet, shuffle=True, warm_start=False \n",
      "[CV]  fit_intercept=True, loss=log, penalty=elasticnet, shuffle=True, warm_start=False, score=0.962, total=   0.0s\n",
      "[CV] fit_intercept=True, loss=log, penalty=elasticnet, shuffle=True, warm_start=False \n",
      "[CV]  fit_intercept=True, loss=log, penalty=elasticnet, shuffle=True, warm_start=False, score=0.962, total=   0.0s\n",
      "[CV] fit_intercept=True, loss=log, penalty=elasticnet, shuffle=False, warm_start=True \n",
      "[CV]  fit_intercept=True, loss=log, penalty=elasticnet, shuffle=False, warm_start=True, score=0.961, total=   0.0s\n",
      "[CV] fit_intercept=True, loss=log, penalty=elasticnet, shuffle=False, warm_start=True \n",
      "[CV]  fit_intercept=True, loss=log, penalty=elasticnet, shuffle=False, warm_start=True, score=0.959, total=   0.0s\n",
      "[CV] fit_intercept=True, loss=log, penalty=elasticnet, shuffle=False, warm_start=False \n",
      "[CV]  fit_intercept=True, loss=log, penalty=elasticnet, shuffle=False, warm_start=False, score=0.961, total=   0.0s\n",
      "[CV] fit_intercept=True, loss=log, penalty=elasticnet, shuffle=False, warm_start=False \n"
     ]
    },
    {
     "name": "stderr",
     "output_type": "stream",
     "text": [
      "[Parallel(n_jobs=1)]: Done  16 out of  16 | elapsed:    0.7s remaining:    0.0s\n",
      "[Parallel(n_jobs=1)]: Done  17 out of  17 | elapsed:    0.7s remaining:    0.0s\n",
      "[Parallel(n_jobs=1)]: Done  18 out of  18 | elapsed:    0.7s remaining:    0.0s\n",
      "[Parallel(n_jobs=1)]: Done  19 out of  19 | elapsed:    0.8s remaining:    0.0s\n",
      "[Parallel(n_jobs=1)]: Done  20 out of  20 | elapsed:    0.8s remaining:    0.0s\n",
      "[Parallel(n_jobs=1)]: Done  21 out of  21 | elapsed:    0.8s remaining:    0.0s\n",
      "[Parallel(n_jobs=1)]: Done  22 out of  22 | elapsed:    0.8s remaining:    0.0s\n",
      "[Parallel(n_jobs=1)]: Done  23 out of  23 | elapsed:    0.9s remaining:    0.0s\n"
     ]
    },
    {
     "name": "stdout",
     "output_type": "stream",
     "text": [
      "[CV]  fit_intercept=True, loss=log, penalty=elasticnet, shuffle=False, warm_start=False, score=0.959, total=   0.0s\n",
      "[CV] fit_intercept=True, loss=hinge, penalty=l2, shuffle=True, warm_start=True \n",
      "[CV]  fit_intercept=True, loss=hinge, penalty=l2, shuffle=True, warm_start=True, score=0.966, total=   0.0s\n",
      "[CV] fit_intercept=True, loss=hinge, penalty=l2, shuffle=True, warm_start=True \n",
      "[CV]  fit_intercept=True, loss=hinge, penalty=l2, shuffle=True, warm_start=True, score=0.967, total=   0.0s\n",
      "[CV] fit_intercept=True, loss=hinge, penalty=l2, shuffle=True, warm_start=False \n",
      "[CV]  fit_intercept=True, loss=hinge, penalty=l2, shuffle=True, warm_start=False, score=0.966, total=   0.0s\n",
      "[CV] fit_intercept=True, loss=hinge, penalty=l2, shuffle=True, warm_start=False \n",
      "[CV]  fit_intercept=True, loss=hinge, penalty=l2, shuffle=True, warm_start=False, score=0.968, total=   0.0s\n",
      "[CV] fit_intercept=True, loss=hinge, penalty=l2, shuffle=False, warm_start=True \n",
      "[CV]  fit_intercept=True, loss=hinge, penalty=l2, shuffle=False, warm_start=True, score=0.965, total=   0.0s\n",
      "[CV] fit_intercept=True, loss=hinge, penalty=l2, shuffle=False, warm_start=True \n"
     ]
    },
    {
     "name": "stderr",
     "output_type": "stream",
     "text": [
      "[Parallel(n_jobs=1)]: Done  24 out of  24 | elapsed:    0.9s remaining:    0.0s\n"
     ]
    },
    {
     "name": "stdout",
     "output_type": "stream",
     "text": [
      "[CV]  fit_intercept=True, loss=hinge, penalty=l2, shuffle=False, warm_start=True, score=0.965, total=   0.0s\n",
      "[CV] fit_intercept=True, loss=hinge, penalty=l2, shuffle=False, warm_start=False \n",
      "[CV]  fit_intercept=True, loss=hinge, penalty=l2, shuffle=False, warm_start=False, score=0.965, total=   0.0s\n",
      "[CV] fit_intercept=True, loss=hinge, penalty=l2, shuffle=False, warm_start=False \n",
      "[CV]  fit_intercept=True, loss=hinge, penalty=l2, shuffle=False, warm_start=False, score=0.965, total=   0.0s\n",
      "[CV] fit_intercept=True, loss=hinge, penalty=l1, shuffle=True, warm_start=True \n",
      "[CV]  fit_intercept=True, loss=hinge, penalty=l1, shuffle=True, warm_start=True, score=0.950, total=   0.1s\n",
      "[CV] fit_intercept=True, loss=hinge, penalty=l1, shuffle=True, warm_start=True \n",
      "[CV]  fit_intercept=True, loss=hinge, penalty=l1, shuffle=True, warm_start=True, score=0.953, total=   0.1s\n",
      "[CV] fit_intercept=True, loss=hinge, penalty=l1, shuffle=True, warm_start=False \n",
      "[CV]  fit_intercept=True, loss=hinge, penalty=l1, shuffle=True, warm_start=False, score=0.949, total=   0.1s\n",
      "[CV] fit_intercept=True, loss=hinge, penalty=l1, shuffle=True, warm_start=False \n",
      "[CV]  fit_intercept=True, loss=hinge, penalty=l1, shuffle=True, warm_start=False, score=0.950, total=   0.1s\n",
      "[CV] fit_intercept=True, loss=hinge, penalty=l1, shuffle=False, warm_start=True \n",
      "[CV]  fit_intercept=True, loss=hinge, penalty=l1, shuffle=False, warm_start=True, score=0.949, total=   0.1s\n",
      "[CV] fit_intercept=True, loss=hinge, penalty=l1, shuffle=False, warm_start=True \n",
      "[CV]  fit_intercept=True, loss=hinge, penalty=l1, shuffle=False, warm_start=True, score=0.952, total=   0.1s\n",
      "[CV] fit_intercept=True, loss=hinge, penalty=l1, shuffle=False, warm_start=False \n",
      "[CV]  fit_intercept=True, loss=hinge, penalty=l1, shuffle=False, warm_start=False, score=0.949, total=   0.1s\n",
      "[CV] fit_intercept=True, loss=hinge, penalty=l1, shuffle=False, warm_start=False \n",
      "[CV]  fit_intercept=True, loss=hinge, penalty=l1, shuffle=False, warm_start=False, score=0.952, total=   0.1s\n",
      "[CV] fit_intercept=True, loss=hinge, penalty=elasticnet, shuffle=True, warm_start=True \n",
      "[CV]  fit_intercept=True, loss=hinge, penalty=elasticnet, shuffle=True, warm_start=True, score=0.964, total=   0.1s\n",
      "[CV] fit_intercept=True, loss=hinge, penalty=elasticnet, shuffle=True, warm_start=True \n",
      "[CV]  fit_intercept=True, loss=hinge, penalty=elasticnet, shuffle=True, warm_start=True, score=0.966, total=   0.1s\n",
      "[CV] fit_intercept=True, loss=hinge, penalty=elasticnet, shuffle=True, warm_start=False \n",
      "[CV]  fit_intercept=True, loss=hinge, penalty=elasticnet, shuffle=True, warm_start=False, score=0.965, total=   0.1s\n",
      "[CV] fit_intercept=True, loss=hinge, penalty=elasticnet, shuffle=True, warm_start=False \n",
      "[CV]  fit_intercept=True, loss=hinge, penalty=elasticnet, shuffle=True, warm_start=False, score=0.965, total=   0.1s\n",
      "[CV] fit_intercept=True, loss=hinge, penalty=elasticnet, shuffle=False, warm_start=True \n",
      "[CV]  fit_intercept=True, loss=hinge, penalty=elasticnet, shuffle=False, warm_start=True, score=0.962, total=   0.0s\n",
      "[CV] fit_intercept=True, loss=hinge, penalty=elasticnet, shuffle=False, warm_start=True \n",
      "[CV]  fit_intercept=True, loss=hinge, penalty=elasticnet, shuffle=False, warm_start=True, score=0.963, total=   0.0s\n",
      "[CV] fit_intercept=True, loss=hinge, penalty=elasticnet, shuffle=False, warm_start=False \n",
      "[CV]  fit_intercept=True, loss=hinge, penalty=elasticnet, shuffle=False, warm_start=False, score=0.962, total=   0.0s\n",
      "[CV] fit_intercept=True, loss=hinge, penalty=elasticnet, shuffle=False, warm_start=False \n",
      "[CV]  fit_intercept=True, loss=hinge, penalty=elasticnet, shuffle=False, warm_start=False, score=0.963, total=   0.1s\n",
      "[CV] fit_intercept=True, loss=perceptron, penalty=l2, shuffle=True, warm_start=True \n",
      "[CV]  fit_intercept=True, loss=perceptron, penalty=l2, shuffle=True, warm_start=True, score=0.950, total=   0.0s\n",
      "[CV] fit_intercept=True, loss=perceptron, penalty=l2, shuffle=True, warm_start=True \n",
      "[CV]  fit_intercept=True, loss=perceptron, penalty=l2, shuffle=True, warm_start=True, score=0.948, total=   0.0s\n",
      "[CV] fit_intercept=True, loss=perceptron, penalty=l2, shuffle=True, warm_start=False \n",
      "[CV]  fit_intercept=True, loss=perceptron, penalty=l2, shuffle=True, warm_start=False, score=0.951, total=   0.0s\n",
      "[CV] fit_intercept=True, loss=perceptron, penalty=l2, shuffle=True, warm_start=False \n",
      "[CV]  fit_intercept=True, loss=perceptron, penalty=l2, shuffle=True, warm_start=False, score=0.951, total=   0.0s\n",
      "[CV] fit_intercept=True, loss=perceptron, penalty=l2, shuffle=False, warm_start=True \n",
      "[CV]  fit_intercept=True, loss=perceptron, penalty=l2, shuffle=False, warm_start=True, score=0.951, total=   0.0s\n",
      "[CV] fit_intercept=True, loss=perceptron, penalty=l2, shuffle=False, warm_start=True \n",
      "[CV]  fit_intercept=True, loss=perceptron, penalty=l2, shuffle=False, warm_start=True, score=0.952, total=   0.0s\n",
      "[CV] fit_intercept=True, loss=perceptron, penalty=l2, shuffle=False, warm_start=False \n",
      "[CV]  fit_intercept=True, loss=perceptron, penalty=l2, shuffle=False, warm_start=False, score=0.951, total=   0.0s\n",
      "[CV] fit_intercept=True, loss=perceptron, penalty=l2, shuffle=False, warm_start=False \n",
      "[CV]  fit_intercept=True, loss=perceptron, penalty=l2, shuffle=False, warm_start=False, score=0.952, total=   0.0s\n",
      "[CV] fit_intercept=True, loss=perceptron, penalty=l1, shuffle=True, warm_start=True \n",
      "[CV]  fit_intercept=True, loss=perceptron, penalty=l1, shuffle=True, warm_start=True, score=0.945, total=   0.1s\n",
      "[CV] fit_intercept=True, loss=perceptron, penalty=l1, shuffle=True, warm_start=True \n",
      "[CV]  fit_intercept=True, loss=perceptron, penalty=l1, shuffle=True, warm_start=True, score=0.940, total=   0.1s\n",
      "[CV] fit_intercept=True, loss=perceptron, penalty=l1, shuffle=True, warm_start=False \n",
      "[CV]  fit_intercept=True, loss=perceptron, penalty=l1, shuffle=True, warm_start=False, score=0.944, total=   0.1s\n",
      "[CV] fit_intercept=True, loss=perceptron, penalty=l1, shuffle=True, warm_start=False \n",
      "[CV]  fit_intercept=True, loss=perceptron, penalty=l1, shuffle=True, warm_start=False, score=0.943, total=   0.1s\n",
      "[CV] fit_intercept=True, loss=perceptron, penalty=l1, shuffle=False, warm_start=True \n",
      "[CV]  fit_intercept=True, loss=perceptron, penalty=l1, shuffle=False, warm_start=True, score=0.942, total=   0.1s\n",
      "[CV] fit_intercept=True, loss=perceptron, penalty=l1, shuffle=False, warm_start=True \n",
      "[CV]  fit_intercept=True, loss=perceptron, penalty=l1, shuffle=False, warm_start=True, score=0.946, total=   0.1s\n",
      "[CV] fit_intercept=True, loss=perceptron, penalty=l1, shuffle=False, warm_start=False \n",
      "[CV]  fit_intercept=True, loss=perceptron, penalty=l1, shuffle=False, warm_start=False, score=0.942, total=   0.1s\n",
      "[CV] fit_intercept=True, loss=perceptron, penalty=l1, shuffle=False, warm_start=False \n",
      "[CV]  fit_intercept=True, loss=perceptron, penalty=l1, shuffle=False, warm_start=False, score=0.946, total=   0.1s\n",
      "[CV] fit_intercept=True, loss=perceptron, penalty=elasticnet, shuffle=True, warm_start=True \n",
      "[CV]  fit_intercept=True, loss=perceptron, penalty=elasticnet, shuffle=True, warm_start=True, score=0.950, total=   0.0s\n",
      "[CV] fit_intercept=True, loss=perceptron, penalty=elasticnet, shuffle=True, warm_start=True \n",
      "[CV]  fit_intercept=True, loss=perceptron, penalty=elasticnet, shuffle=True, warm_start=True, score=0.951, total=   0.0s\n",
      "[CV] fit_intercept=True, loss=perceptron, penalty=elasticnet, shuffle=True, warm_start=False \n",
      "[CV]  fit_intercept=True, loss=perceptron, penalty=elasticnet, shuffle=True, warm_start=False, score=0.946, total=   0.0s\n",
      "[CV] fit_intercept=True, loss=perceptron, penalty=elasticnet, shuffle=True, warm_start=False \n",
      "[CV]  fit_intercept=True, loss=perceptron, penalty=elasticnet, shuffle=True, warm_start=False, score=0.950, total=   0.0s\n",
      "[CV] fit_intercept=True, loss=perceptron, penalty=elasticnet, shuffle=False, warm_start=True \n",
      "[CV]  fit_intercept=True, loss=perceptron, penalty=elasticnet, shuffle=False, warm_start=True, score=0.948, total=   0.0s\n",
      "[CV] fit_intercept=True, loss=perceptron, penalty=elasticnet, shuffle=False, warm_start=True \n",
      "[CV]  fit_intercept=True, loss=perceptron, penalty=elasticnet, shuffle=False, warm_start=True, score=0.944, total=   0.0s\n",
      "[CV] fit_intercept=True, loss=perceptron, penalty=elasticnet, shuffle=False, warm_start=False \n",
      "[CV]  fit_intercept=True, loss=perceptron, penalty=elasticnet, shuffle=False, warm_start=False, score=0.948, total=   0.0s\n",
      "[CV] fit_intercept=True, loss=perceptron, penalty=elasticnet, shuffle=False, warm_start=False \n",
      "[CV]  fit_intercept=True, loss=perceptron, penalty=elasticnet, shuffle=False, warm_start=False, score=0.944, total=   0.0s\n",
      "[CV] fit_intercept=False, loss=log, penalty=l2, shuffle=True, warm_start=True \n",
      "[CV]  fit_intercept=False, loss=log, penalty=l2, shuffle=True, warm_start=True, score=0.961, total=   0.0s\n",
      "[CV] fit_intercept=False, loss=log, penalty=l2, shuffle=True, warm_start=True \n",
      "[CV]  fit_intercept=False, loss=log, penalty=l2, shuffle=True, warm_start=True, score=0.965, total=   0.0s\n",
      "[CV] fit_intercept=False, loss=log, penalty=l2, shuffle=True, warm_start=False \n",
      "[CV]  fit_intercept=False, loss=log, penalty=l2, shuffle=True, warm_start=False, score=0.963, total=   0.0s\n",
      "[CV] fit_intercept=False, loss=log, penalty=l2, shuffle=True, warm_start=False \n"
     ]
    },
    {
     "name": "stdout",
     "output_type": "stream",
     "text": [
      "[CV]  fit_intercept=False, loss=log, penalty=l2, shuffle=True, warm_start=False, score=0.965, total=   0.0s\n",
      "[CV] fit_intercept=False, loss=log, penalty=l2, shuffle=False, warm_start=True \n",
      "[CV]  fit_intercept=False, loss=log, penalty=l2, shuffle=False, warm_start=True, score=0.962, total=   0.0s\n",
      "[CV] fit_intercept=False, loss=log, penalty=l2, shuffle=False, warm_start=True \n",
      "[CV]  fit_intercept=False, loss=log, penalty=l2, shuffle=False, warm_start=True, score=0.962, total=   0.0s\n",
      "[CV] fit_intercept=False, loss=log, penalty=l2, shuffle=False, warm_start=False \n",
      "[CV]  fit_intercept=False, loss=log, penalty=l2, shuffle=False, warm_start=False, score=0.962, total=   0.0s\n",
      "[CV] fit_intercept=False, loss=log, penalty=l2, shuffle=False, warm_start=False \n",
      "[CV]  fit_intercept=False, loss=log, penalty=l2, shuffle=False, warm_start=False, score=0.962, total=   0.0s\n",
      "[CV] fit_intercept=False, loss=log, penalty=l1, shuffle=True, warm_start=True \n",
      "[CV]  fit_intercept=False, loss=log, penalty=l1, shuffle=True, warm_start=True, score=0.946, total=   0.1s\n",
      "[CV] fit_intercept=False, loss=log, penalty=l1, shuffle=True, warm_start=True \n",
      "[CV]  fit_intercept=False, loss=log, penalty=l1, shuffle=True, warm_start=True, score=0.946, total=   0.0s\n",
      "[CV] fit_intercept=False, loss=log, penalty=l1, shuffle=True, warm_start=False \n",
      "[CV]  fit_intercept=False, loss=log, penalty=l1, shuffle=True, warm_start=False, score=0.943, total=   0.1s\n",
      "[CV] fit_intercept=False, loss=log, penalty=l1, shuffle=True, warm_start=False \n",
      "[CV]  fit_intercept=False, loss=log, penalty=l1, shuffle=True, warm_start=False, score=0.947, total=   0.1s\n",
      "[CV] fit_intercept=False, loss=log, penalty=l1, shuffle=False, warm_start=True \n",
      "[CV]  fit_intercept=False, loss=log, penalty=l1, shuffle=False, warm_start=True, score=0.948, total=   0.0s\n",
      "[CV] fit_intercept=False, loss=log, penalty=l1, shuffle=False, warm_start=True \n",
      "[CV]  fit_intercept=False, loss=log, penalty=l1, shuffle=False, warm_start=True, score=0.948, total=   0.1s\n",
      "[CV] fit_intercept=False, loss=log, penalty=l1, shuffle=False, warm_start=False \n",
      "[CV]  fit_intercept=False, loss=log, penalty=l1, shuffle=False, warm_start=False, score=0.948, total=   0.0s\n",
      "[CV] fit_intercept=False, loss=log, penalty=l1, shuffle=False, warm_start=False \n",
      "[CV]  fit_intercept=False, loss=log, penalty=l1, shuffle=False, warm_start=False, score=0.948, total=   0.1s\n",
      "[CV] fit_intercept=False, loss=log, penalty=elasticnet, shuffle=True, warm_start=True \n",
      "[CV]  fit_intercept=False, loss=log, penalty=elasticnet, shuffle=True, warm_start=True, score=0.960, total=   0.0s\n",
      "[CV] fit_intercept=False, loss=log, penalty=elasticnet, shuffle=True, warm_start=True \n",
      "[CV]  fit_intercept=False, loss=log, penalty=elasticnet, shuffle=True, warm_start=True, score=0.961, total=   0.0s\n",
      "[CV] fit_intercept=False, loss=log, penalty=elasticnet, shuffle=True, warm_start=False \n",
      "[CV]  fit_intercept=False, loss=log, penalty=elasticnet, shuffle=True, warm_start=False, score=0.960, total=   0.0s\n",
      "[CV] fit_intercept=False, loss=log, penalty=elasticnet, shuffle=True, warm_start=False \n",
      "[CV]  fit_intercept=False, loss=log, penalty=elasticnet, shuffle=True, warm_start=False, score=0.961, total=   0.0s\n",
      "[CV] fit_intercept=False, loss=log, penalty=elasticnet, shuffle=False, warm_start=True \n",
      "[CV]  fit_intercept=False, loss=log, penalty=elasticnet, shuffle=False, warm_start=True, score=0.959, total=   0.0s\n",
      "[CV] fit_intercept=False, loss=log, penalty=elasticnet, shuffle=False, warm_start=True \n",
      "[CV]  fit_intercept=False, loss=log, penalty=elasticnet, shuffle=False, warm_start=True, score=0.959, total=   0.0s\n",
      "[CV] fit_intercept=False, loss=log, penalty=elasticnet, shuffle=False, warm_start=False \n",
      "[CV]  fit_intercept=False, loss=log, penalty=elasticnet, shuffle=False, warm_start=False, score=0.959, total=   0.0s\n",
      "[CV] fit_intercept=False, loss=log, penalty=elasticnet, shuffle=False, warm_start=False \n",
      "[CV]  fit_intercept=False, loss=log, penalty=elasticnet, shuffle=False, warm_start=False, score=0.959, total=   0.0s\n",
      "[CV] fit_intercept=False, loss=hinge, penalty=l2, shuffle=True, warm_start=True \n",
      "[CV]  fit_intercept=False, loss=hinge, penalty=l2, shuffle=True, warm_start=True, score=0.963, total=   0.0s\n",
      "[CV] fit_intercept=False, loss=hinge, penalty=l2, shuffle=True, warm_start=True \n",
      "[CV]  fit_intercept=False, loss=hinge, penalty=l2, shuffle=True, warm_start=True, score=0.965, total=   0.0s\n",
      "[CV] fit_intercept=False, loss=hinge, penalty=l2, shuffle=True, warm_start=False \n",
      "[CV]  fit_intercept=False, loss=hinge, penalty=l2, shuffle=True, warm_start=False, score=0.963, total=   0.0s\n",
      "[CV] fit_intercept=False, loss=hinge, penalty=l2, shuffle=True, warm_start=False \n",
      "[CV]  fit_intercept=False, loss=hinge, penalty=l2, shuffle=True, warm_start=False, score=0.963, total=   0.0s\n",
      "[CV] fit_intercept=False, loss=hinge, penalty=l2, shuffle=False, warm_start=True \n",
      "[CV]  fit_intercept=False, loss=hinge, penalty=l2, shuffle=False, warm_start=True, score=0.963, total=   0.0s\n",
      "[CV] fit_intercept=False, loss=hinge, penalty=l2, shuffle=False, warm_start=True \n",
      "[CV]  fit_intercept=False, loss=hinge, penalty=l2, shuffle=False, warm_start=True, score=0.962, total=   0.0s\n",
      "[CV] fit_intercept=False, loss=hinge, penalty=l2, shuffle=False, warm_start=False \n",
      "[CV]  fit_intercept=False, loss=hinge, penalty=l2, shuffle=False, warm_start=False, score=0.963, total=   0.0s\n",
      "[CV] fit_intercept=False, loss=hinge, penalty=l2, shuffle=False, warm_start=False \n",
      "[CV]  fit_intercept=False, loss=hinge, penalty=l2, shuffle=False, warm_start=False, score=0.962, total=   0.0s\n",
      "[CV] fit_intercept=False, loss=hinge, penalty=l1, shuffle=True, warm_start=True \n",
      "[CV]  fit_intercept=False, loss=hinge, penalty=l1, shuffle=True, warm_start=True, score=0.947, total=   0.2s\n",
      "[CV] fit_intercept=False, loss=hinge, penalty=l1, shuffle=True, warm_start=True \n",
      "[CV]  fit_intercept=False, loss=hinge, penalty=l1, shuffle=True, warm_start=True, score=0.945, total=   0.1s\n",
      "[CV] fit_intercept=False, loss=hinge, penalty=l1, shuffle=True, warm_start=False \n",
      "[CV]  fit_intercept=False, loss=hinge, penalty=l1, shuffle=True, warm_start=False, score=0.945, total=   0.1s\n",
      "[CV] fit_intercept=False, loss=hinge, penalty=l1, shuffle=True, warm_start=False \n",
      "[CV]  fit_intercept=False, loss=hinge, penalty=l1, shuffle=True, warm_start=False, score=0.947, total=   0.1s\n",
      "[CV] fit_intercept=False, loss=hinge, penalty=l1, shuffle=False, warm_start=True \n",
      "[CV]  fit_intercept=False, loss=hinge, penalty=l1, shuffle=False, warm_start=True, score=0.944, total=   0.1s\n",
      "[CV] fit_intercept=False, loss=hinge, penalty=l1, shuffle=False, warm_start=True \n",
      "[CV]  fit_intercept=False, loss=hinge, penalty=l1, shuffle=False, warm_start=True, score=0.946, total=   0.1s\n",
      "[CV] fit_intercept=False, loss=hinge, penalty=l1, shuffle=False, warm_start=False \n",
      "[CV]  fit_intercept=False, loss=hinge, penalty=l1, shuffle=False, warm_start=False, score=0.944, total=   0.1s\n",
      "[CV] fit_intercept=False, loss=hinge, penalty=l1, shuffle=False, warm_start=False \n",
      "[CV]  fit_intercept=False, loss=hinge, penalty=l1, shuffle=False, warm_start=False, score=0.946, total=   0.1s\n",
      "[CV] fit_intercept=False, loss=hinge, penalty=elasticnet, shuffle=True, warm_start=True \n",
      "[CV]  fit_intercept=False, loss=hinge, penalty=elasticnet, shuffle=True, warm_start=True, score=0.962, total=   0.1s\n",
      "[CV] fit_intercept=False, loss=hinge, penalty=elasticnet, shuffle=True, warm_start=True \n",
      "[CV]  fit_intercept=False, loss=hinge, penalty=elasticnet, shuffle=True, warm_start=True, score=0.962, total=   0.1s\n",
      "[CV] fit_intercept=False, loss=hinge, penalty=elasticnet, shuffle=True, warm_start=False \n",
      "[CV]  fit_intercept=False, loss=hinge, penalty=elasticnet, shuffle=True, warm_start=False, score=0.963, total=   0.1s\n",
      "[CV] fit_intercept=False, loss=hinge, penalty=elasticnet, shuffle=True, warm_start=False \n",
      "[CV]  fit_intercept=False, loss=hinge, penalty=elasticnet, shuffle=True, warm_start=False, score=0.963, total=   0.1s\n",
      "[CV] fit_intercept=False, loss=hinge, penalty=elasticnet, shuffle=False, warm_start=True \n",
      "[CV]  fit_intercept=False, loss=hinge, penalty=elasticnet, shuffle=False, warm_start=True, score=0.961, total=   0.1s\n",
      "[CV] fit_intercept=False, loss=hinge, penalty=elasticnet, shuffle=False, warm_start=True \n",
      "[CV]  fit_intercept=False, loss=hinge, penalty=elasticnet, shuffle=False, warm_start=True, score=0.959, total=   0.1s\n",
      "[CV] fit_intercept=False, loss=hinge, penalty=elasticnet, shuffle=False, warm_start=False \n"
     ]
    },
    {
     "name": "stdout",
     "output_type": "stream",
     "text": [
      "[CV]  fit_intercept=False, loss=hinge, penalty=elasticnet, shuffle=False, warm_start=False, score=0.961, total=   0.1s\n",
      "[CV] fit_intercept=False, loss=hinge, penalty=elasticnet, shuffle=False, warm_start=False \n",
      "[CV]  fit_intercept=False, loss=hinge, penalty=elasticnet, shuffle=False, warm_start=False, score=0.959, total=   0.1s\n",
      "[CV] fit_intercept=False, loss=perceptron, penalty=l2, shuffle=True, warm_start=True \n",
      "[CV]  fit_intercept=False, loss=perceptron, penalty=l2, shuffle=True, warm_start=True, score=0.954, total=   0.0s\n",
      "[CV] fit_intercept=False, loss=perceptron, penalty=l2, shuffle=True, warm_start=True \n",
      "[CV]  fit_intercept=False, loss=perceptron, penalty=l2, shuffle=True, warm_start=True, score=0.953, total=   0.0s\n",
      "[CV] fit_intercept=False, loss=perceptron, penalty=l2, shuffle=True, warm_start=False \n",
      "[CV]  fit_intercept=False, loss=perceptron, penalty=l2, shuffle=True, warm_start=False, score=0.953, total=   0.0s\n",
      "[CV] fit_intercept=False, loss=perceptron, penalty=l2, shuffle=True, warm_start=False \n",
      "[CV]  fit_intercept=False, loss=perceptron, penalty=l2, shuffle=True, warm_start=False, score=0.957, total=   0.0s\n",
      "[CV] fit_intercept=False, loss=perceptron, penalty=l2, shuffle=False, warm_start=True \n",
      "[CV]  fit_intercept=False, loss=perceptron, penalty=l2, shuffle=False, warm_start=True, score=0.954, total=   0.0s\n",
      "[CV] fit_intercept=False, loss=perceptron, penalty=l2, shuffle=False, warm_start=True \n",
      "[CV]  fit_intercept=False, loss=perceptron, penalty=l2, shuffle=False, warm_start=True, score=0.958, total=   0.0s\n",
      "[CV] fit_intercept=False, loss=perceptron, penalty=l2, shuffle=False, warm_start=False \n",
      "[CV]  fit_intercept=False, loss=perceptron, penalty=l2, shuffle=False, warm_start=False, score=0.954, total=   0.0s\n",
      "[CV] fit_intercept=False, loss=perceptron, penalty=l2, shuffle=False, warm_start=False \n",
      "[CV]  fit_intercept=False, loss=perceptron, penalty=l2, shuffle=False, warm_start=False, score=0.958, total=   0.0s\n",
      "[CV] fit_intercept=False, loss=perceptron, penalty=l1, shuffle=True, warm_start=True \n",
      "[CV]  fit_intercept=False, loss=perceptron, penalty=l1, shuffle=True, warm_start=True, score=0.938, total=   0.1s\n",
      "[CV] fit_intercept=False, loss=perceptron, penalty=l1, shuffle=True, warm_start=True \n",
      "[CV]  fit_intercept=False, loss=perceptron, penalty=l1, shuffle=True, warm_start=True, score=0.939, total=   0.1s\n",
      "[CV] fit_intercept=False, loss=perceptron, penalty=l1, shuffle=True, warm_start=False \n",
      "[CV]  fit_intercept=False, loss=perceptron, penalty=l1, shuffle=True, warm_start=False, score=0.938, total=   0.1s\n",
      "[CV] fit_intercept=False, loss=perceptron, penalty=l1, shuffle=True, warm_start=False \n",
      "[CV]  fit_intercept=False, loss=perceptron, penalty=l1, shuffle=True, warm_start=False, score=0.932, total=   0.1s\n",
      "[CV] fit_intercept=False, loss=perceptron, penalty=l1, shuffle=False, warm_start=True \n",
      "[CV]  fit_intercept=False, loss=perceptron, penalty=l1, shuffle=False, warm_start=True, score=0.934, total=   0.1s\n",
      "[CV] fit_intercept=False, loss=perceptron, penalty=l1, shuffle=False, warm_start=True \n",
      "[CV]  fit_intercept=False, loss=perceptron, penalty=l1, shuffle=False, warm_start=True, score=0.935, total=   0.1s\n",
      "[CV] fit_intercept=False, loss=perceptron, penalty=l1, shuffle=False, warm_start=False \n",
      "[CV]  fit_intercept=False, loss=perceptron, penalty=l1, shuffle=False, warm_start=False, score=0.934, total=   0.1s\n",
      "[CV] fit_intercept=False, loss=perceptron, penalty=l1, shuffle=False, warm_start=False \n",
      "[CV]  fit_intercept=False, loss=perceptron, penalty=l1, shuffle=False, warm_start=False, score=0.935, total=   0.1s\n",
      "[CV] fit_intercept=False, loss=perceptron, penalty=elasticnet, shuffle=True, warm_start=True \n",
      "[CV]  fit_intercept=False, loss=perceptron, penalty=elasticnet, shuffle=True, warm_start=True, score=0.948, total=   0.1s\n",
      "[CV] fit_intercept=False, loss=perceptron, penalty=elasticnet, shuffle=True, warm_start=True \n",
      "[CV]  fit_intercept=False, loss=perceptron, penalty=elasticnet, shuffle=True, warm_start=True, score=0.945, total=   0.1s\n",
      "[CV] fit_intercept=False, loss=perceptron, penalty=elasticnet, shuffle=True, warm_start=False \n",
      "[CV]  fit_intercept=False, loss=perceptron, penalty=elasticnet, shuffle=True, warm_start=False, score=0.946, total=   0.1s\n",
      "[CV] fit_intercept=False, loss=perceptron, penalty=elasticnet, shuffle=True, warm_start=False \n",
      "[CV]  fit_intercept=False, loss=perceptron, penalty=elasticnet, shuffle=True, warm_start=False, score=0.950, total=   0.1s\n",
      "[CV] fit_intercept=False, loss=perceptron, penalty=elasticnet, shuffle=False, warm_start=True \n",
      "[CV]  fit_intercept=False, loss=perceptron, penalty=elasticnet, shuffle=False, warm_start=True, score=0.945, total=   0.0s\n",
      "[CV] fit_intercept=False, loss=perceptron, penalty=elasticnet, shuffle=False, warm_start=True \n",
      "[CV]  fit_intercept=False, loss=perceptron, penalty=elasticnet, shuffle=False, warm_start=True, score=0.944, total=   0.0s\n",
      "[CV] fit_intercept=False, loss=perceptron, penalty=elasticnet, shuffle=False, warm_start=False \n",
      "[CV]  fit_intercept=False, loss=perceptron, penalty=elasticnet, shuffle=False, warm_start=False, score=0.945, total=   0.0s\n",
      "[CV] fit_intercept=False, loss=perceptron, penalty=elasticnet, shuffle=False, warm_start=False \n",
      "[CV]  fit_intercept=False, loss=perceptron, penalty=elasticnet, shuffle=False, warm_start=False, score=0.944, total=   0.0s\n"
     ]
    },
    {
     "name": "stderr",
     "output_type": "stream",
     "text": [
      "[Parallel(n_jobs=1)]: Done 144 out of 144 | elapsed:    7.2s finished\n"
     ]
    },
    {
     "name": "stdout",
     "output_type": "stream",
     "text": [
      "SGDClassifier\n",
      "\n",
      "\n",
      "\n"
     ]
    },
    {
     "data": {
      "text/plain": [
       "<AxesSubplot:>"
      ]
     },
     "execution_count": 25,
     "metadata": {},
     "output_type": "execute_result"
    },
    {
     "data": {
      "image/png": "[encoded data removed]",
      "text/plain": [
       "<Figure size 432x288 with 2 Axes>"
      ]
     },
     "metadata": {
      "needs_background": "light"
     },
     "output_type": "display_data"
    },
    {
     "data": {
      "image/png": "[encoded data removed]",
      "text/plain": [
       "<Figure size 432x288 with 1 Axes>"
      ]
     },
     "metadata": {
      "needs_background": "light"
     },
     "output_type": "display_data"
    },
    {
     "data": {
      "image/png": "[encoded data removed]",
      "text/plain": [
       "<Figure size 1440x720 with 1 Axes>"
      ]
     },
     "metadata": {
      "needs_background": "light"
     },
     "output_type": "display_data"
    }
   ],
   "source": [
    "\n",
    "grid = {\n",
    "    'loss':['log','hinge','perceptron'],\n",
    "    'penalty':['l2','l1','elasticnet'],\n",
    "    'fit_intercept':[True,False],\n",
    "    'shuffle':[True,False],\n",
    "    'warm_start':[True,False]\n",
    "}\n",
    "gs = GridSearchCV(SGDClassifier(),cv=round(2.5),verbose=25,param_grid=grid).fit(X_train,y_train)\n",
    "\n",
    "models_clf_results = calcuate_metrixs({'SGDClassifier':gs},X_train,X_test,y_train,y_test)\n",
    "models_clf_results = pd.DataFrame(models_clf_results.values(),models_clf_results.keys())\n",
    "models_clf_results.plot.bar(figsize=(20,10))"
   ]
  },
  {
   "cell_type": "code",
   "execution_count": 28,
   "metadata": {},
   "outputs": [
    {
     "name": "stdout",
     "output_type": "stream",
     "text": [
      "SGDClassifier\n",
      "\n",
      "\n",
      "\n"
     ]
    },
    {
     "data": {
      "text/plain": [
       "<AxesSubplot:>"
      ]
     },
     "execution_count": 28,
     "metadata": {},
     "output_type": "execute_result"
    },
    {
     "data": {
      "image/png": "[encoded data removed]",
      "text/plain": [
       "<Figure size 432x288 with 2 Axes>"
      ]
     },
     "metadata": {
      "needs_background": "light"
     },
     "output_type": "display_data"
    },
    {
     "data": {
      "image/png": "[encoded data removed]",
      "text/plain": [
       "<Figure size 432x288 with 1 Axes>"
      ]
     },
     "metadata": {
      "needs_background": "light"
     },
     "output_type": "display_data"
    },
    {
     "data": {
      "image/png": "[encoded data removed]",
      "text/plain": [
       "<Figure size 1440x720 with 1 Axes>"
      ]
     },
     "metadata": {
      "needs_background": "light"
     },
     "output_type": "display_data"
    }
   ],
   "source": [
    "models_clf_results = calcuate_metrixs({'SGDClassifier':gs},X_train,X_test,y_train,y_test)\n",
    "models_clf_results = pd.DataFrame(models_clf_results.values(),models_clf_results.keys())\n",
    "models_clf_results.plot.bar(figsize=(20,10))"
   ]
  },
  {
   "cell_type": "code",
   "execution_count": 29,
   "metadata": {},
   "outputs": [
    {
     "data": {
      "text/html": [
       "<div>\n",
       "<style scoped>\n",
       "    .dataframe tbody tr th:only-of-type {\n",
       "        vertical-align: middle;\n",
       "    }\n",
       "\n",
       "    .dataframe tbody tr th {\n",
       "        vertical-align: top;\n",
       "    }\n",
       "\n",
       "    .dataframe thead th {\n",
       "        text-align: right;\n",
       "    }\n",
       "</style>\n",
       "<table border=\"1\" class=\"dataframe\">\n",
       "  <thead>\n",
       "    <tr style=\"text-align: right;\">\n",
       "      <th></th>\n",
       "      <th>Accuracy</th>\n",
       "      <th>F1 Score</th>\n",
       "      <th>Precision</th>\n",
       "      <th>Recall</th>\n",
       "    </tr>\n",
       "  </thead>\n",
       "  <tbody>\n",
       "    <tr>\n",
       "      <th>SGDClassifier</th>\n",
       "      <td>0.974875</td>\n",
       "      <td>0.974809</td>\n",
       "      <td>0.981823</td>\n",
       "      <td>0.967894</td>\n",
       "    </tr>\n",
       "  </tbody>\n",
       "</table>\n",
       "</div>"
      ],
      "text/plain": [
       "               Accuracy  F1 Score  Precision    Recall\n",
       "SGDClassifier  0.974875  0.974809   0.981823  0.967894"
      ]
     },
     "execution_count": 29,
     "metadata": {},
     "output_type": "execute_result"
    }
   ],
   "source": [
    "models_clf_results"
   ]
  },
  {
   "cell_type": "code",
   "execution_count": 30,
   "metadata": {},
   "outputs": [],
   "source": [
    "import pickle\n",
    "pickle.dump(gs,open('./model.pkl','wb'))"
   ]
  },
  {
   "cell_type": "code",
   "execution_count": null,
   "metadata": {},
   "outputs": [],
   "source": []
  }
 ],
 "metadata": {
  "kernelspec": {
   "display_name": "Python 3",
   "language": "python",
   "name": "python3"
  },
  "language_info": {
   "codemirror_mode": {
    "name": "ipython",
    "version": 3
   },
   "file_extension": ".py",
   "mimetype": "text/x-python",
   "name": "python",
   "nbconvert_exporter": "python",
   "pygments_lexer": "ipython3",
   "version": "3.8.5"
  }
 },
 "nbformat": 4,
 "nbformat_minor": 4
}
